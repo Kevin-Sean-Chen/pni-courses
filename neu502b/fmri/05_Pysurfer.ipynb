{
 "cells": [
  {
   "cell_type": "markdown",
   "metadata": {},
   "source": [
    "# NEU502b Analysis: Pysurfer Plots\n",
    "NOTE: Pysurfer works only in python 2.7 "
   ]
  },
  {
   "cell_type": "code",
   "execution_count": null,
   "metadata": {},
   "outputs": [],
   "source": [
    "import os, time\n",
    "import numpy as np\n",
    "import nibabel as nib\n",
    "from surfer import Brain\n",
    "%matplotlib qt5"
   ]
  },
  {
   "cell_type": "markdown",
   "metadata": {},
   "source": [
    "## Figure 1: Visual Control on Pial Surface"
   ]
  },
  {
   "cell_type": "code",
   "execution_count": null,
   "metadata": {},
   "outputs": [],
   "source": [
    "#~~~~~~~~~~~~~~~~~~~~~~~~~~~~~~~~~~~~~~~~~~#\n",
    "### Define parameters.\n",
    "#~~~~~~~~~~~~~~~~~~~~~~~~~~~~~~~~~~~~~~~~~~#\n",
    "\n",
    "## Define metadata.\n",
    "subj = ['sub-01', 'sub-02'][0]\n",
    "task = 'visualcontrol'\n",
    "\n",
    "## Define overlay parameters.\n",
    "fmin = 1e-6\n",
    "fmax = 5\n",
    "\n",
    "#~~~~~~~~~~~~~~~~~~~~~~~~~~~~~~~~~~~~~~~~~~#\n",
    "### Plotting.\n",
    "#~~~~~~~~~~~~~~~~~~~~~~~~~~~~~~~~~~~~~~~~~~#\n",
    "\n",
    "## Define paths.\n",
    "subjects_dir = 'preproc/freesurfer'\n",
    "data_dir = 'first_levels/%s' %task\n",
    "\n",
    "## Initialize brain.\n",
    "brains = Brain(subj, 'split', 'pial', size=(1400,600), cortex='low_contrast',\n",
    "               background='black', subjects_dir=subjects_dir)\n",
    "\n",
    "## Change view.\n",
    "brain1, brain2 = brains.brain_matrix.squeeze()\n",
    "brain1.show_view(dict(azimuth=-40, elevation=105, focalpoint=[-25, -50, 100]))\n",
    "brain2.show_view(dict(azimuth=-140, elevation=105, focalpoint=[100, -50, 100]))\n",
    "brains.set_distance(280)\n",
    "\n",
    "## Load overlays.\n",
    "for hemi in ['L','R']:\n",
    "\n",
    "    f = os.path.join(data_dir, '%s_task-%s_space-%s.%s.psc.nii.gz' %(subj,task,subj,hemi))\n",
    "    brains.add_overlay(f, min=fmin, max=fmax, sign=\"pos\", hemi='lh' if hemi=='L' else 'rh')\n",
    "    \n",
    "## Remove colorbars. \n",
    "brains.hide_colorbar()"
   ]
  },
  {
   "cell_type": "code",
   "execution_count": null,
   "metadata": {},
   "outputs": [],
   "source": [
    "brains.save_image('plots/fig1/%s_%s.png' %(subj, task))\n",
    "brains.close()"
   ]
  },
  {
   "cell_type": "markdown",
   "metadata": {},
   "source": [
    "## Figure 2: False Positives in Respiration"
   ]
  },
  {
   "cell_type": "code",
   "execution_count": null,
   "metadata": {},
   "outputs": [],
   "source": [
    "#~~~~~~~~~~~~~~~~~~~~~~~~~~~~~~~~~~~~~~~~~~#\n",
    "### Define parameters.\n",
    "#~~~~~~~~~~~~~~~~~~~~~~~~~~~~~~~~~~~~~~~~~~#\n",
    "\n",
    "## Define metadata.\n",
    "subj = ['sub-01', 'sub-02'][0]\n",
    "task = ['visualbreathhold','visualhyperventilate'][0]\n",
    "\n",
    "## Define overlay parameters.\n",
    "fmin = 1e-6\n",
    "fmax = 5\n",
    "\n",
    "#~~~~~~~~~~~~~~~~~~~~~~~~~~~~~~~~~~~~~~~~~~#\n",
    "### Plotting.\n",
    "#~~~~~~~~~~~~~~~~~~~~~~~~~~~~~~~~~~~~~~~~~~#\n",
    "\n",
    "## Define paths.\n",
    "subjects_dir = 'preproc/freesurfer'\n",
    "\n",
    "## Initialize brain.\n",
    "brains = Brain(subj, 'split', 'inflated', views=['medial','lateral'],\n",
    "               size=(1200,800), cortex='low_contrast',\n",
    "               background='black', subjects_dir=subjects_dir)\n",
    "\n",
    "## Load overlays.\n",
    "for hemi in ['L','R']:\n",
    "\n",
    "    ## Define data.\n",
    "    data_dir = 'first_levels/%s' %task\n",
    "    f = os.path.join(data_dir, '%s_task-%s_space-%s.%s.psc.nii.gz' %(subj,task,subj,hemi))\n",
    "    data = nib.load(f).get_data().squeeze()\n",
    "    \n",
    "    ## Load data.\n",
    "    hemi='lh' if hemi=='L' else 'rh' \n",
    "    brains.add_data(data*-1, min=0, max=5, thresh=1e-6, hemi=hemi, \n",
    "                    colormap='Blues_r', colorbar=False)\n",
    "    brains.add_data(data, min=0, max=5, thresh=1e-6, hemi=hemi, \n",
    "                    colormap='OrRd_r', colorbar=False)\n",
    "        \n",
    "## Fix distances.\n",
    "if subj == 'sub-01':\n",
    "    brains.brain_matrix[0][0].show_view('medial', distance=365)\n",
    "    brains.brain_matrix[0][1].show_view('medial', distance=365)\n",
    "    brains.brain_matrix[1][0].show_view('lateral', distance=320)\n",
    "    brains.brain_matrix[1][1].show_view('lateral', distance=320)\n",
    "else:\n",
    "    brains.brain_matrix[0][0].show_view('medial', distance=350)\n",
    "    brains.brain_matrix[0][1].show_view('medial', distance=350)\n",
    "    brains.brain_matrix[1][0].show_view('lateral', distance=320)\n",
    "    brains.brain_matrix[1][1].show_view('lateral', distance=320)"
   ]
  },
  {
   "cell_type": "code",
   "execution_count": null,
   "metadata": {},
   "outputs": [],
   "source": [
    "brains.save_image('plots/fig2/%s_%s.png' %(subj, task))\n",
    "brains.close()"
   ]
  },
  {
   "cell_type": "markdown",
   "metadata": {},
   "source": [
    "## Figure 4: Signal Recovery"
   ]
  },
  {
   "cell_type": "code",
   "execution_count": null,
   "metadata": {},
   "outputs": [],
   "source": [
    "#~~~~~~~~~~~~~~~~~~~~~~~~~~~~~~~~~~~~~~~~~~#\n",
    "### Define parameters.\n",
    "#~~~~~~~~~~~~~~~~~~~~~~~~~~~~~~~~~~~~~~~~~~#\n",
    "\n",
    "## Define metadata.\n",
    "subj = ['sub-01', 'sub-02'][0]\n",
    "task = ['visualbreathhold','visualhyperventilate'][0]\n",
    "\n",
    "#~~~~~~~~~~~~~~~~~~~~~~~~~~~~~~~~~~~~~~~~~~#\n",
    "### Plotting.\n",
    "#~~~~~~~~~~~~~~~~~~~~~~~~~~~~~~~~~~~~~~~~~~#\n",
    "\n",
    "## Define paths.\n",
    "subjects_dir = 'preproc/freesurfer'\n",
    "\n",
    "## Initialize brain.\n",
    "brains = Brain(subj, 'split', 'inflated', views=['medial','lateral'],\n",
    "               size=(1200,800), cortex='low_contrast',\n",
    "               background='black', subjects_dir=subjects_dir)\n",
    "\n",
    "## Load overlays.\n",
    "for hemi in ['L','R']:\n",
    "\n",
    "    ## Define data.\n",
    "    data_dir = 'first_levels/%s' %task\n",
    "    f = os.path.join(data_dir, '%s_task-%s_space-%s.%s.compcor.nii.gz' %(subj,task,subj,hemi))\n",
    "    data = nib.load(f).get_data().squeeze()\n",
    "    \n",
    "    ## Load data.\n",
    "    hemi='lh' if hemi=='L' else 'rh' \n",
    "    brains.add_data(data*-1, min=0, max=5, thresh=1e-6, hemi=hemi, \n",
    "                    colormap='Blues_r', colorbar=False)\n",
    "    brains.add_data(data, min=0, max=5, thresh=1e-6, hemi=hemi, \n",
    "                    colormap='OrRd_r', colorbar=False)\n",
    "        \n",
    "## Fix distances.\n",
    "if subj == 'sub-01':\n",
    "    brains.brain_matrix[0][0].show_view('medial', distance=365)\n",
    "    brains.brain_matrix[0][1].show_view('medial', distance=365)\n",
    "    brains.brain_matrix[1][0].show_view('lateral', distance=320)\n",
    "    brains.brain_matrix[1][1].show_view('lateral', distance=320)\n",
    "else:\n",
    "    brains.brain_matrix[0][0].show_view('medial', distance=350)\n",
    "    brains.brain_matrix[0][1].show_view('medial', distance=350)\n",
    "    brains.brain_matrix[1][0].show_view('lateral', distance=320)\n",
    "    brains.brain_matrix[1][1].show_view('lateral', distance=320)"
   ]
  },
  {
   "cell_type": "code",
   "execution_count": null,
   "metadata": {},
   "outputs": [],
   "source": [
    "brains.save_image('plots/fig4/%s_%s.png' %(subj, task))\n",
    "brains.close()"
   ]
  }
 ],
 "metadata": {
  "kernelspec": {
   "display_name": "Python 2",
   "language": "python",
   "name": "python2"
  },
  "language_info": {
   "codemirror_mode": {
    "name": "ipython",
    "version": 2
   },
   "file_extension": ".py",
   "mimetype": "text/x-python",
   "name": "python",
   "nbconvert_exporter": "python",
   "pygments_lexer": "ipython2",
   "version": "2.7.14"
  },
  "toc": {
   "nav_menu": {},
   "number_sections": false,
   "sideBar": true,
   "skip_h1_title": false,
   "toc_cell": false,
   "toc_position": {},
   "toc_section_display": "block",
   "toc_window_display": false
  }
 },
 "nbformat": 4,
 "nbformat_minor": 2
}
