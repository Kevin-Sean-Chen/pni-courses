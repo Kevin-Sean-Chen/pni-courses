{
 "cells": [
  {
   "cell_type": "code",
   "execution_count": 18,
   "metadata": {},
   "outputs": [],
   "source": [
    "import os, time\n",
    "import numpy as np\n",
    "import nibabel as nib\n",
    "from surfer import Brain\n",
    "%matplotlib qt5\n",
    "\n",
    "subjects_dir = 'preproc/freesurfer/'\n",
    "img_dir = 'first_levels/visualcontrol/'\n",
    "\n",
    "subj = 'sub-02'\n",
    "task = 'visualcontrol'\n",
    "\n",
    "#~~~~~~~~~~~~~~~~~~~~~~~~~~~~~~~~~~~~~~~~~~~~~~~~~~~~~~~~~~~~#\n",
    "### Define parameters.\n",
    "#~~~~~~~~~~~~~~~~~~~~~~~~~~~~~~~~~~~~~~~~~~~~~~~~~~~~~~~~~~~~#\n",
    "\n",
    "## Pysurfer parameters.\n",
    "surface = 'inflated'\n",
    "views = ['caud']\n",
    "size = (1200,800)\n",
    "bg_color = 'black'\n",
    "\n",
    "fmin = 1 # min value\n",
    "fmax = 3 # max value\n",
    "\n",
    "threshold = -np.log10(0.05 / 2)\n",
    "\n",
    "#~~~~~~~~~~~~~~~~~~~~~~~~~~~~~~~~~~~~~~~~~~~~~~~~~~~~~~~~~~~~#\n",
    "### Plot.\n",
    "#~~~~~~~~~~~~~~~~~~~~~~~~~~~~~~~~~~~~~~~~~~~~~~~~~~~~~~~~~~~~#\n",
    "\n",
    "## Initialize brain.\n",
    "brains = Brain('fsaverage5', 'split', surface, views=views, size=size,\n",
    "              background=bg_color, subjects_dir=subjects_dir)\n",
    "\n",
    "## Add overlay.\n",
    "for hemi in ['L','R']:\n",
    "    \n",
    "    ## Load data.\n",
    "    f = os.path.join(img_dir, '%s_task-%s_space-fsaverage5.%s.b.nii.gz' %(subj,task,hemi))\n",
    "    psc = nib.load(f).get_data()\n",
    "    \n",
    "    f = os.path.join(img_dir, '%s_task-%s_space-fsaverage5.%s.p.nii.gz' %(subj,task,hemi))\n",
    "    pvals = nib.load(f).get_data()\n",
    "    \n",
    "    psc[np.abs(pvals) < threshold] = 0\n",
    "    \n",
    "    brains.add_overlay(psc, min=fmin, max=fmax, sign=\"pos\", hemi='lh' if hemi=='L' else 'rh')\n",
    "    \n",
    "brains.save_image('%s_%s.png' %(subj, task))"
   ]
  }
 ],
 "metadata": {
  "kernelspec": {
   "display_name": "Python 2",
   "language": "python",
   "name": "python2"
  },
  "language_info": {
   "codemirror_mode": {
    "name": "ipython",
    "version": 2
   },
   "file_extension": ".py",
   "mimetype": "text/x-python",
   "name": "python",
   "nbconvert_exporter": "python",
   "pygments_lexer": "ipython2",
   "version": "2.7.14"
  },
  "toc": {
   "nav_menu": {},
   "number_sections": true,
   "sideBar": true,
   "skip_h1_title": false,
   "toc_cell": false,
   "toc_position": {},
   "toc_section_display": "block",
   "toc_window_display": false
  }
 },
 "nbformat": 4,
 "nbformat_minor": 2
}
