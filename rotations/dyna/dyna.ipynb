{
 "cells": [
  {
   "cell_type": "markdown",
   "metadata": {},
   "source": [
    "# The Dyna Architecture\n",
    "Based on [Sutton (1991)](https://pdfs.semanticscholar.org/47b4/987a82c4380e2c27e52603b5aaabe7cea59f.pdf): *Dyna, an Integrated Architecture for Learning, Planning, and Reacting*.\n",
    "\n",
    "## Introduction to Dyna\n",
    "The Dyna architecture attempts to integrate: (1) trial-and-error learning of reactive policies, i.e. mapping from situations to actions; (2) learning domain knowledge, i.e. mapping from a current situation to the next via an action; (3) planning, i.e. finding the optimal policy given this knowledge; and (4) reactive execution, i.e. no planning between perceiving a situation and responding to it.\n",
    "\n",
    "The architecture assumes the problem an agent faces is one of reward maximization. The crux of Dyna is that planning boils down to \"trying things in your head\", or using an internal model to simulate the expected reward from a state-action policy. \n",
    "\n",
    "## Dyna Algorithm\n",
    "\n",
    "In pseudocode, the Dyna algorithm is:\n",
    "\n",
    "1. Observe the state of the world, reactively choose an action in response.\n",
    "2. Observe subsequent reward and new state.\n",
    "3. Update values based on this experience.\n",
    "4. Update action model based on this experience.\n",
    "5. Repeat $K$ times:\n",
    "    - Select hypothetical world state and action.\n",
    "    - Predict subsequent reward and new state.\n",
    "    - Update values based on this experience.\n",
    "    \n",
    "This fifth step is the planning portion of the algorithm, instantiated essentially as reinforcement learning from hypothetical model-generated experiences. It is important to note that Dyna is neutral to how hypothetical world states are selected. This makes Dyna general-purpose if not frustrating.\n",
    "\n",
    "## Q-Learning\n",
    "For step (3), the proposal is to use *Q-learning* as the evaluation function of actions. In Q-learning, the value of a state is updated for a state $S$ and action $A$ such that:\n",
    "\n",
    "> $ Q(S,A) \\leftarrow Q(S,A) + \\alpha[R + \\gamma \\cdot max \\ Q(S',a)-Q(S,A)]$\n",
    "\n",
    "where $R$ is the observed reward; $\\alpha$ is a learning parameter; and $\\gamma$ is a discount parameter."
   ]
  },
  {
   "cell_type": "markdown",
   "metadata": {},
   "source": [
    "## Example 1: Running Mazes"
   ]
  },
  {
   "cell_type": "code",
   "execution_count": 1,
   "metadata": {},
   "outputs": [
    {
     "name": "stdout",
     "output_type": "stream",
     "text": [
      "(11, 11)\n",
      "(11, 11)\n",
      "(11, 11)\n",
      "(11, 11)\n",
      "(11, 11)\n",
      "(11, 11)\n"
     ]
    },
    {
     "data": {
      "image/png": "[encoded data removed]",
      "text/plain": [
       "<matplotlib.figure.Figure at 0x111335710>"
      ]
     },
     "metadata": {},
     "output_type": "display_data"
    }
   ],
   "source": [
    "import numpy as np\n",
    "import matplotlib.pyplot as plt\n",
    "import seaborn as sns\n",
    "from maze import *\n",
    "sns.set_style('white')\n",
    "sns.set_context('notebook', font_scale=2)\n",
    "%matplotlib inline\n",
    "\n",
    "#~~~~~~~~~~~~~~~~~~~~~~~~~~~~~~~~~~~~~~~~~~#\n",
    "### Plot mazes.\n",
    "#~~~~~~~~~~~~~~~~~~~~~~~~~~~~~~~~~~~~~~~~~~#\n",
    "\n",
    "## Initialize canvas.\n",
    "fig, axes = plt.subplots(2,3,figsize=(12,8))\n",
    "\n",
    "## Iteratively plot mazes.\n",
    "for i in range(6):\n",
    "    \n",
    "    ## Load maze.\n",
    "    maze, start, end = MazeGenerator(i+1)\n",
    "    print(maze.shape)\n",
    "    \n",
    "    ## Plot.\n",
    "    axes[i//3,i%3].matshow(maze, cmap='bone')\n",
    "    axes[i//3,i%3].scatter(*start[::-1], s=100, marker='s')\n",
    "    axes[i//3,i%3].scatter(*end[::-1], s=100)\n",
    "    axes[i//3,i%3].set(xticks=[], yticks=[], title='Maze %s' %(i+1))\n",
    "    \n",
    "plt.tight_layout()"
   ]
  }
 ],
 "metadata": {
  "kernelspec": {
   "display_name": "Python 3",
   "language": "python",
   "name": "python3"
  },
  "language_info": {
   "codemirror_mode": {
    "name": "ipython",
    "version": 3
   },
   "file_extension": ".py",
   "mimetype": "text/x-python",
   "name": "python",
   "nbconvert_exporter": "python",
   "pygments_lexer": "ipython3",
   "version": "3.6.1"
  },
  "toc": {
   "colors": {
    "hover_highlight": "#DAA520",
    "navigate_num": "#000000",
    "navigate_text": "#333333",
    "running_highlight": "#FF0000",
    "selected_highlight": "#FFD700",
    "sidebar_border": "#EEEEEE",
    "wrapper_background": "#FFFFFF"
   },
   "moveMenuLeft": true,
   "nav_menu": {},
   "navigate_menu": true,
   "number_sections": false,
   "sideBar": true,
   "skip_h1_title": false,
   "threshold": 4,
   "toc_cell": false,
   "toc_position": {},
   "toc_section_display": "block",
   "toc_window_display": false,
   "widenNotebook": false
  }
 },
 "nbformat": 4,
 "nbformat_minor": 2
}
