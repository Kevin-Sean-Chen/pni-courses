{
 "cells": [
  {
   "cell_type": "markdown",
   "metadata": {},
   "source": [
    "# The Dyna Architecture\n",
    "Based on [Sutton (1991)](https://pdfs.semanticscholar.org/47b4/987a82c4380e2c27e52603b5aaabe7cea59f.pdf): *Dyna, an Integrated Architecture for Learning, Planning, and Reacting*.\n",
    "\n",
    "## Introduction to Dyna\n",
    "The Dyna architecture attempts to integrate: (1) trial-and-error learning of reactive policies, i.e. mapping from situations to actions; (2) learning domain knowledge, i.e. mapping from a current situation to the next via an action; (3) planning, i.e. finding the optimal policy given this knowledge; and (4) reactive execution, i.e. no planning between perceiving a situation and responding to it.\n",
    "\n",
    "The architecture assumes the problem an agent faces is one of reward maximization. The crux of Dyna is that planning boils down to \"trying things in your head\", or using an internal model to simulate the expected reward from a state-action policy. \n",
    "\n",
    "## Dyna Algorithm\n",
    "\n",
    "In pseudocode, the Dyna algorithm is:\n",
    "\n",
    "1. Observe the state of the world, reactively choose an action in response.\n",
    "2. Observe subsequent reward and new state.\n",
    "3. Update values based on this experience.\n",
    "4. Update action model based on this experience.\n",
    "5. Repeat $K$ times:\n",
    "    - Select hypothetical world state and action.\n",
    "    - Predict subsequent reward and new state.\n",
    "    - Update values based on this experience.\n",
    "    \n",
    "This fifth step is the planning portion of the algorithm, instantiated essentially as reinforcement learning from hypothetical model-generated experiences. It is important to note that Dyna is neutral to how hypothetical world states are selected. This makes Dyna general-purpose if not frustrating.\n",
    "\n",
    "## Q-Learning\n",
    "For step (3), the proposal is to use *Q-learning* as the evaluation function of actions. In Q-learning, the value of a state is updated for a state $S$ and action $A$ such that:\n",
    "\n",
    "> $ Q(S,A) \\leftarrow Q(S,A) + \\alpha[R + \\gamma \\cdot max \\ Q(S',a)-Q(S,A)]$\n",
    "\n",
    "where $R$ is the observed reward; $\\alpha$ is a learning parameter; and $\\gamma$ is a discount parameter."
   ]
  },
  {
   "cell_type": "markdown",
   "metadata": {},
   "source": [
    "## Example 1: Running Mazes"
   ]
  },
  {
   "cell_type": "code",
   "execution_count": 1,
   "metadata": {},
   "outputs": [
    {
     "data": {
      "image/png": "[encoded data removed]",
      "text/plain": [
       "<matplotlib.figure.Figure at 0x7f36701bba58>"
      ]
     },
     "metadata": {},
     "output_type": "display_data"
    }
   ],
   "source": [
    "import numpy as np\n",
    "import matplotlib.pyplot as plt\n",
    "import seaborn as sns\n",
    "from maze import *\n",
    "sns.set_style('white')\n",
    "sns.set_context('notebook', font_scale=2)\n",
    "%matplotlib inline\n",
    "\n",
    "#~~~~~~~~~~~~~~~~~~~~~~~~~~~~~~~~~~~~~~~~~~#\n",
    "### Plot mazes.\n",
    "#~~~~~~~~~~~~~~~~~~~~~~~~~~~~~~~~~~~~~~~~~~#\n",
    "\n",
    "## Initialize canvas.\n",
    "fig, axes = plt.subplots(2,3,figsize=(12,8))\n",
    "\n",
    "## Iteratively plot mazes.\n",
    "for i in range(6):\n",
    "    \n",
    "    ## Load maze.\n",
    "    maze, start, end = MazeGenerator(i+1)\n",
    "    \n",
    "    ## Plot.\n",
    "    axes[i//3,i%3].matshow(maze, cmap='bone')\n",
    "    axes[i//3,i%3].scatter(*start[::-1], s=100, marker='s')\n",
    "    axes[i//3,i%3].scatter(*end[::-1], s=100)\n",
    "    axes[i//3,i%3].set(xticks=[], yticks=[], title='Maze %s' %(i+1))\n",
    "    \n",
    "plt.tight_layout()"
   ]
  },
  {
   "cell_type": "code",
   "execution_count": 2,
   "metadata": {
    "collapsed": true
   },
   "outputs": [],
   "source": [
    "import numpy as np\n",
    "\n",
    "class DynaMazeRunner(object):\n",
    "    '''Maze-running agent based on the Dyna architecture.\n",
    "    \n",
    "    INPUTS\n",
    "    - K:       internal simulation steps (when K=0, pure RL agent).\n",
    "    - alpha:   learning rate or step size.\n",
    "    - gamma:   discount factor.\n",
    "    - epsilon: exploration rate.'''\n",
    "    \n",
    "    def __init__(self, K=10, alpha=0.1, gamma=0.95, epsilon=0.05):\n",
    "        \n",
    "        ## Initialize values.\n",
    "        self.K = K\n",
    "        self.alpha = alpha\n",
    "        self.gamma = gamma\n",
    "        self.epsilon = epsilon\n",
    "        \n",
    "    def _find_actions(M, S):\n",
    "        '''Find possible actions given state, S, and maze, M.'''\n",
    "        A = np.array([[-1,0], [1,0], [0,-1], [0,1]])\n",
    "        S_prime = S + actions\n",
    "        return [s for s in S_prime if M[s[0], s[1]]]\n",
    "     \n",
    "    def _select_action(self, Q, S_prime):\n",
    "        '''Greedy action selection with probability epsilon'''\n",
    "        if np.random.binomial(1, 1 - self.epsilon):\n",
    "            return S_prime[np.argmax([Q[i,j]] for i,j in S_prime)]\n",
    "        else:\n",
    "            return S_prime[np.random.randint(len(S_prime))]\n",
    "        \n",
    "test = DynaMazeRunner()"
   ]
  }
 ],
 "metadata": {
  "kernelspec": {
   "display_name": "Python 3",
   "language": "python",
   "name": "python3"
  },
  "language_info": {
   "codemirror_mode": {
    "name": "ipython",
    "version": 3
   },
   "file_extension": ".py",
   "mimetype": "text/x-python",
   "name": "python",
   "nbconvert_exporter": "python",
   "pygments_lexer": "ipython3",
   "version": "3.6.3"
  },
  "toc": {
   "nav_menu": {},
   "number_sections": false,
   "sideBar": true,
   "skip_h1_title": false,
   "toc_cell": false,
   "toc_position": {},
   "toc_section_display": "block",
   "toc_window_display": false
  }
 },
 "nbformat": 4,
 "nbformat_minor": 2
}
