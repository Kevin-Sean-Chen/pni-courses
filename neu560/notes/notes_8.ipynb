{
 "cells": [
  {
   "cell_type": "markdown",
   "metadata": {},
   "source": [
    "# Neu 560 (2018-03-08): Generalized Linear Models (GLMs)\n",
    "## Review\n",
    "** Encoding distribution: **\n",
    "> When $P(y \\mid x, \\theta)$ is a function of $y$, i.e. probability distribution over spike counts\n",
    "\n",
    "** Likelihood function: **\n",
    "> When $P(y \\mid x, \\theta)$ is a function of $\\theta$, i.e. probability of data given model params\n",
    "\n",
    "** Stimulus likelihood function (decoding): **\n",
    "> When $P(y \\mid x, \\theta)$ is a function of $x$, i.e. stimulus decoding\n",
    "\n",
    "## Terminology \n",
    "In statistics, GLMs may refer to the **General Linear Model** or the **Generalized Linear Model**. These refer to two distinct models. The [general linear model](https://en.wikipedia.org/wiki/General_linear_model) refers to multivariate Gaussian regression, i.e. regression on a series of multivariate measurements ($Y$) assuming normally distributed errors, and is typically used in fMRI analysis. The [generalized linear model](https://en.wikipedia.org/wiki/Generalized_linear_model) is the generalization of linear regression that allows for error distributions other than the normal. \n",
    "\n",
    "Generalized linear models can typically be broken down into two components: (1) a linear model mapping independent variables to some latent process; and (2) a non-linear function that maps the generative model to non-normal dependent observations:\n",
    "\n",
    "$$ \\theta = \\vec{k} \\cdot \\vec{x} $$\n",
    "\n",
    "$$ y \\sim f(\\theta) $$\n",
    "\n",
    "In the statistical literature, the inverse of the function, $f$, is known as the **link function** ($f^{-1}$).\n",
    "\n",
    "## Examples\n",
    "### Linear Gaussian GLM\n",
    "The most basic generalized linear model is essentially the general linear model, i.e. the multivariate normal distribution. This model is said to have the identity link function insofar that no non-linearity is introduced.\n",
    "\n",
    "### Bernoulli GLM\n",
    "Maps linear model to binary data (i.e. $y \\in [0, 1]$). Logistic regression is a special case of the Bernoulli GLM using the logistic function:\n",
    "\n",
    "$$ f(x) = \\frac{1}{1 + e^{-x}} $$\n",
    "\n",
    "### Poisson GLM\n",
    "Maps linear model to non-negative discrete integers (i.e. $y \\in [0, 1, ..., N]$). "
   ]
  }
 ],
 "metadata": {
  "kernelspec": {
   "display_name": "Python 3",
   "language": "python",
   "name": "python3"
  },
  "language_info": {
   "codemirror_mode": {
    "name": "ipython",
    "version": 3
   },
   "file_extension": ".py",
   "mimetype": "text/x-python",
   "name": "python",
   "nbconvert_exporter": "python",
   "pygments_lexer": "ipython3",
   "version": "3.6.4"
  },
  "toc": {
   "nav_menu": {},
   "number_sections": false,
   "sideBar": true,
   "skip_h1_title": false,
   "toc_cell": false,
   "toc_position": {},
   "toc_section_display": "block",
   "toc_window_display": false
  }
 },
 "nbformat": 4,
 "nbformat_minor": 2
}
