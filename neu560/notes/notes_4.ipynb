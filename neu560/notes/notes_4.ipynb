{
 "cells": [
  {
   "cell_type": "markdown",
   "metadata": {},
   "source": [
    "# Neu 560 (2018-02-20): PCA, Part 2\n",
    "## Frobenius Norm\n",
    "The **Frobenius norm** of a matrix $X$ is a measure of the \"length\" of a matrix. It behaves like the Euclidean norm but for matrices: it is equal to the square-root of the sum of all squared elements in a matrix:\n",
    "\n",
    "> $ \\lVert X \\lVert_F = \\sqrt(\\sum X^2_{ij}) $\n",
    "\n",
    "Notably, an equivalent way to write the Frobenius norm using matrix operations is using the trace of $X^TX$:\n",
    "\n",
    "> $ \\lVert X \\lVert_F = \\sqrt(Tr[X^X]) $\n",
    "\n",
    "## PCA solution: finding best *k*-dimensional subspace\n",
    "The orthonormal basis that maximizes the sum-of-squares of project data is given by the SVD of $X^TX$:\n",
    "\n",
    "> $(X^TX) = USU^T$\n",
    "\n",
    "The first $k$ columns of $U$ are the first $k$ principal components: $\\{\\overrightarrow u_1, \\overrightarrow u_2, \\ldots, \\overrightarrow u_k\\}$. \n",
    "\n",
    "The singular values correspond to the sum-of-squares of the data vectors projected into the corresponding principal component:\n",
    "\n",
    "> $s_j = \\sum (\\overrightarrow u_j \\cdot \\overrightarrow x_i)^2$\n",
    "\n",
    "## Fraction of variance\n",
    "The squared Frobenius norm of $X$ is equal to the sum of the singular values. The fraction of total variance accounted for the by the first $k$ principal components is there given by:\n",
    "\n",
    "> $\\frac{s_1 + \\ldots + s_k}{s_1 + \\ldots + s_k + \\ldots + s_d}$\n",
    "\n",
    "## Ellipses and zero-centering\n",
    "PCA is equivalent to fitting an ellipse to the data. The eigenvectors give the dominant axes of the ellipse, whereas the $s_i$ give the elongation of the ellipse along each axis. \n",
    "\n",
    "In most applications, we want to consider an ellipse centered on the data and find principal components that describe the spread of the datapoints relative to the mean. To do so, we center the data (i.e. de-mean)."
   ]
  }
 ],
 "metadata": {
  "kernelspec": {
   "display_name": "Python 3",
   "language": "python",
   "name": "python3"
  },
  "language_info": {
   "codemirror_mode": {
    "name": "ipython",
    "version": 3
   },
   "file_extension": ".py",
   "mimetype": "text/x-python",
   "name": "python",
   "nbconvert_exporter": "python",
   "pygments_lexer": "ipython3",
   "version": "3.6.4"
  },
  "toc": {
   "nav_menu": {},
   "number_sections": false,
   "sideBar": true,
   "skip_h1_title": false,
   "toc_cell": false,
   "toc_position": {
    "height": "742px",
    "left": "0px",
    "right": "1049.6px",
    "top": "111px",
    "width": "212px"
   },
   "toc_section_display": "block",
   "toc_window_display": false
  }
 },
 "nbformat": 4,
 "nbformat_minor": 2
}
