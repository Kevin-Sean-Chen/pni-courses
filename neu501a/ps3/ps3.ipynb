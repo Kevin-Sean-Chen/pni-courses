{
 "cells": [
  {
   "cell_type": "markdown",
   "metadata": {},
   "source": [
    "# Bistability in Attractor Spaces\n",
    "In this problem, we’re going to build “bump” attractors and study their properties. We’re going to be thinking of them as models of hippocampal place cell activity. We’re going to simplify the problem in three ways: \n",
    "1. The world our “rats” will live in is going to be 1-dimensional, i.e., a linear track. \n",
    "2. Direction isn’t going to matter: pointing one way along the track will be considered equivalent to pointing the other way along the track. \n",
    "3. Instead of using spiking neurons, we’re going to use simple firing rate neuron models. These simplifications make the coding a little easier, but still allow getting at some of the basic issues.\n",
    "\n",
    "For each neuron $i$, we will have two activity variables: $u_i$, which will be roughly analogous to membrane potential; and $r_i$, which will be analogous to firing rate. Inputs from other neurons affect $u_i$. Then $u_i$ gets translated into firing rate $r_i$ by a nonlinear function that doesn't go below below zero and saturates at high firing rates. Each neuron's membrane potential evolves in time according to:\n",
    "\n",
    "> $\\frac{du_i}{dt} = -g_i^{leak} u_i(t) + I_i + I_{global} + \\sum\\limits_{j}w_{ij}r_j(t)+\\sigma_n$\n",
    "\n",
    "The first term represents a leak conductance that drives $u$ towards the resting membrane potential. Note that for simplicity, here we're going to be using a resting membrane potential of zero, and we're also going to set $g_{leak} = 1 $. The second and third terms represents an external current drive to the neuron. The fourth term is a weighted sum of the firing rates of all the other neurons. The final fifth term is a noise term, which we will assume is Gaussian with mean zero and standard deviation $\\sigma_n$, and independent across neurons.\n",
    "\n",
    "The firing rate of neuron $i$ at any point in time will be defined as:\n",
    "\n",
    "> $r_i(t) = \\frac{1}{2} + \\frac{1}{2} \\cdot tanh(\\frac{u_i(t)-\\theta}{\\beta})$\n",
    "\n",
    "Set $\\theta = 0.5$ and $\\beta = 0.3$ and then plot $r$ as a function of $u$ to get a fool for what this function looks like. It is zero for $u << \\theta$; between zero and one when $u$ si within order $\\beta$ of $\\theta$; and saturates when 1 for $u >> \\theta$. "
   ]
  },
  {
   "cell_type": "code",
   "execution_count": null,
   "metadata": {},
   "outputs": [],
   "source": [
    "import numpy as np\n",
    "import matplotlib.pylab as plt\n",
    "import seaborn as sns\n",
    "sns.set_style('white')\n",
    "sns.set_context('notebook', font_scale=2)\n",
    "%matplotlib inline\n",
    "\n",
    "#~~~~~~~~~~~~~~~~~~~~~~~~~~~~~~~~~~~~~~~~~~#\n",
    "### Define functions.\n",
    "#~~~~~~~~~~~~~~~~~~~~~~~~~~~~~~~~~~~~~~~~~~#\n",
    "\n",
    "def firing_rate(u, theta=0.5, beta=0.3):\n",
    "    return 0.5 + 0.5 * np.tanh( (u - theta) / beta )\n",
    "\n",
    "#~~~~~~~~~~~~~~~~~~~~~~~~~~~~~~~~~~~~~~~~~~#\n",
    "### Plot.\n",
    "#~~~~~~~~~~~~~~~~~~~~~~~~~~~~~~~~~~~~~~~~~~#\n",
    "\n",
    "## Define values for u.\n",
    "u = np.linspace(-5,5,1000)\n",
    "\n",
    "## Estimate r.\n",
    "r = firing_rate(u)\n",
    "\n",
    "## Plot.\n",
    "fig, ax = plt.subplots(1,1,figsize=(12,4))\n",
    "ax.plot(u,r)\n",
    "ax.set(xlim=(u.min(), u.max()), xlabel=r'$u(t)$', ylabel=r'$r(u)$')\n",
    "\n",
    "sns.despine()\n",
    "plt.tight_layout()"
   ]
  },
  {
   "cell_type": "markdown",
   "metadata": {},
   "source": [
    "## Connectivity pattern for a bump attractor\n",
    "We're not going to set up a pattern of weights that leads to a \"bump\" attractor. First we order the neurons in space: we're going to say that the index $i$ not only identifies the neuron, but also associates it with position $i$ along a line. Then we define the weight from neuron $j$ to neuron $i$ as:\n",
    "\n",
    "> $w_{ij} = (w_E \\ / \\ \\sigma_E) \\cdot e^{-(i-j)^2 \\ / \\ 2 \\sigma^2_E} - g_I$\n",
    "\n",
    "This means that neuron $i$ receives excitatory weights from neurons that are within a vicinity $\\sigma_E$ of it. It also receives inhibitory weights ($g_I$) from all other neurons, regardless of where they are. (Note: we set $w_{ij}$ to zero for all $i$; that is, we'll have no self-connection weights.)\n",
    "\n",
    "We've written baseline code for you to work with in this problem set. The idea is to start you off; this code is for you to go into, modify, and chew on as you see fit. Download the Matlab code, unpack it, go to the relevant directory while within Matlab, and type:\n",
    "\n",
    "> single_bump [ENTER}\n",
    "\n",
    "The default parameters that you start with will include local excitatory weights and global inhibitory weights as described in equation (3) above, as well as a global drive $I_{global}$ of 2.1. The green plot shows the activity of 150 neurons, connected as above. The noise term, which is different on every time step, is what makes the network lively.\n",
    "\n",
    "You'll see a smaller axis below the main plot, with a line in black. This represents the inputs $I_i$. Their default value is 0. On the top right of the figure, you'll see three graphical user interface (GUI) entries that say \"drive strength\" (let’s call this $w_D$), \"drive speed\" (let's call this $dV$), and \"drive position\" (let's call this $\\mu D$). These control the magnitude of an external drive $I_i$ that will be distributed as a Gaussian, with peak amplitude \"drive strength\" and centered at neuron \"drive position\":\n",
    "\n",
    "> $I_i = w_D \\cdot e^{-(i-\\mu_D)^2 \\ / \\ 2 \\sigma^2_E} $\n",
    "\n",
    "> $\\frac{d \\mu_D}{dt} = dV$\n",
    "\n",
    "Type 0.05 into \"drive strength\", press ENTER, and see what happens. Now replace the 0.05 with a 0. Now type 1.5 into \"drive strength\" and 2 into \"drive speed.\" Have fun! Play with the code at will."
   ]
  },
  {
   "cell_type": "code",
   "execution_count": null,
   "metadata": {},
   "outputs": [],
   "source": [
    "from single_bump import *\n",
    "sns.set_context('notebook', font_scale=1)\n",
    "%matplotlib qt5\n",
    "%load_ext autoreload\n",
    "\n",
    "#~~~~~~~~~~~~~~~~~~~~~~~~~~~~~~~~~~~~~~~~~~#\n",
    "### Run Simulation.\n",
    "#~~~~~~~~~~~~~~~~~~~~~~~~~~~~~~~~~~~~~~~~~~#\n",
    "\n",
    "sb = SingleBump(T=100)\n",
    "sb.run_simulation(plot=True)"
   ]
  },
  {
   "cell_type": "markdown",
   "metadata": {},
   "source": [
    "One way to interpret the external drive, $I_i$, is that it represents the net input to hippocampal neurons coming from sensory systems: when the rat is near position $i$, the place cells that are closest to $i$ will be the ones most strongly driven by the sensory input. As the rat moves around, the sensory input changes, and provides drive to other place cells."
   ]
  },
  {
   "cell_type": "markdown",
   "metadata": {},
   "source": [
    "## Exercise 1\n",
    "Are activity bumps in this network really stable? Run the network, starting from the default, $u_i(t=0)=0$, for 50 simulated time points (i.e. until $t = 50$) using different values of $w_D$, ranging from -0.5 to 0.5. Plot the peak value of $r$ at the end of the simulation (namely, $max_i(r_i(t=50))$ as a function of $w_D$. Now repeat this experiment, but this time from having a bump of activity already present, by using the initial values:\n",
    "\n",
    "> $u_i(t=0) = 4 \\cdot e^{-(i - N_{cells}/2)^2 \\ / \\ 2 \\sigma^2_E} $\n",
    "\n",
    "where $N_{cells}$ is the number of neurons in the simulation. Again plot the peak value of the final $r$ as a function of $w_D$, on the same axes as your immediately previous plot. Explain what you see in your plots."
   ]
  },
  {
   "cell_type": "code",
   "execution_count": 13,
   "metadata": {},
   "outputs": [
    {
     "data": {
      "image/png": "[encoded data removed]",
      "text/plain": [
       "<matplotlib.figure.Figure at 0x7f26664a9b70>"
      ]
     },
     "metadata": {},
     "output_type": "display_data"
    }
   ],
   "source": [
    "sns.set_context('notebook', font_scale=2)\n",
    "%matplotlib inline\n",
    "%autoreload\n",
    "\n",
    "#~~~~~~~~~~~~~~~~~~~~~~~~~~~~~~~~~~~~~~~~~~#\n",
    "### Define parameters.\n",
    "#~~~~~~~~~~~~~~~~~~~~~~~~~~~~~~~~~~~~~~~~~~#\n",
    "\n",
    "## Define time.\n",
    "T = 50\n",
    "\n",
    "## Define range of driving forces, wD.\n",
    "driving_forces = np.linspace(-0.5, 0.5, 100)\n",
    "\n",
    "#~~~~~~~~~~~~~~~~~~~~~~~~~~~~~~~~~~~~~~~~~~#\n",
    "### Run simulations.\n",
    "#~~~~~~~~~~~~~~~~~~~~~~~~~~~~~~~~~~~~~~~~~~#\n",
    "\n",
    "## Preallocate space.\n",
    "R = np.zeros_like(driving_forces)\n",
    "\n",
    "for i, wD in enumerate(driving_forces):\n",
    "    \n",
    "    ## Initialize simulation.\n",
    "    sb = SingleBump(T=T, wD=wD)\n",
    "    \n",
    "    ## Run simulation.\n",
    "    r = sb.run_simulation(plot=False)\n",
    "    \n",
    "    ## Extract and store max firing rate.\n",
    "    R[i] = r.max()\n",
    "\n",
    "#~~~~~~~~~~~~~~~~~~~~~~~~~~~~~~~~~~~~~~~~~~#\n",
    "### Plot.\n",
    "#~~~~~~~~~~~~~~~~~~~~~~~~~~~~~~~~~~~~~~~~~~#\n",
    "\n",
    "## Initialize canvas.\n",
    "fig, ax = plt.subplots(1,1,figsize=(12,4))\n",
    "\n",
    "## Plot.\n",
    "ax.plot(driving_forces, R)\n",
    "ax.set(xlim=(driving_forces.min(), driving_forces.max()), xlabel=r'Driving Force ($w_D$)',\n",
    "       ylabel=r'Firing Rate ($r$)')\n",
    "\n",
    "sns.despine()\n",
    "plt.tight_layout()"
   ]
  }
 ],
 "metadata": {
  "kernelspec": {
   "display_name": "Python 3",
   "language": "python",
   "name": "python3"
  },
  "language_info": {
   "codemirror_mode": {
    "name": "ipython",
    "version": 3
   },
   "file_extension": ".py",
   "mimetype": "text/x-python",
   "name": "python",
   "nbconvert_exporter": "python",
   "pygments_lexer": "ipython3",
   "version": "3.6.3"
  },
  "toc": {
   "nav_menu": {},
   "number_sections": false,
   "sideBar": true,
   "skip_h1_title": false,
   "toc_cell": false,
   "toc_position": {},
   "toc_section_display": "block",
   "toc_window_display": false
  }
 },
 "nbformat": 4,
 "nbformat_minor": 2
}
