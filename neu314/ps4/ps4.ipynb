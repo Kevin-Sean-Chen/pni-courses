{
 "cells": [
  {
   "cell_type": "markdown",
   "metadata": {},
   "source": [
    "# Probability and Statistics Module - Test \n",
    "\n",
    "## Due at Noon on January 8th, 2018\n",
    "\n",
    "\n",
    "You may use all Notes & Exercises (with answers) from class and the entirety of the internet to help you complete this assignment, but there is **ABSOLUTELY NO COLLABORATION PERMITTED**.\n",
    " \n",
    "   \n",
    "## Answering Instructions\n",
    "\n",
    "- Some of the questions below require you to write some code; you will be principally graded on whether the results the code produces (plots, computations, etc.) are correct. But if the results are incorrect, and **if** you wrote clean intelligible code, you may salvage some points if the code is partially correct. (This won't work if your code is hard to follow - comments will help here!)\n",
    "\n",
    "\n",
    " \n",
    "## Submission Instructions\n",
    "- Failure to follow submission instructions **EXACTLY** may result in a grade of **0**\n",
    "\n",
    "- **No Late Submissions** without a Dean's Excuse, an assignment submitted after the due date may result in a grade of **0**\n",
    "\n",
    "- Please send an email to the TA grader for this module, Mike Morais, at `mjmorais@princeton.edu` with the subject line:\n",
    "\n",
    "> `[NEU_314_2017] FirstName LastName Assignment 4`\n",
    "\n",
    "> For example, \"[NEU_314_2017] Jane Smith Assignment 4\"\n",
    "\n",
    "- In the email, please attach **only** your completed notebook file **and** any image files you've added. Make sure you don't forget to include any image files that you've used! Files forgotten will count as files not made. The notebook should be renamed to have the filename:\n",
    "\n",
    "> `FirstName_LastName_Assignment4.ipynb`\n",
    "\n",
    "> For example, \"Jane_Smith_Assignment4.ipynb\"\n",
    "\n",
    "\n",
    "\n",
    "- Please run the `Restart & Clear Output` option on your notebook before saving and sending your notebook (the grader will do this anyway if you don't)\n",
    " \n",
    " \n",
    "### Maximum score is 50 points"
   ]
  },
  {
   "cell_type": "code",
   "execution_count": 1,
   "metadata": {
    "ExecuteTime": {
     "end_time": "2017-12-16T22:25:52.477595Z",
     "start_time": "2017-12-16T22:25:52.040660Z"
    },
    "collapsed": true
   },
   "outputs": [],
   "source": [
    "import numpy as np\n",
    "import matplotlib.pyplot as plt\n",
    "import seaborn as sns\n",
    "sns.set_style('white')\n",
    "sns.set_context('notebook', font_scale=1.75)\n",
    "%matplotlib inline"
   ]
  },
  {
   "cell_type": "markdown",
   "metadata": {},
   "source": [
    "# Problem 1 | Expected Value (6 pts)"
   ]
  },
  {
   "cell_type": "markdown",
   "metadata": {},
   "source": [
    "### 1a) Discrete distributions (3 pts)\n",
    "Consider a random variable, $X$, that can take the values, $[0, 1, 2, 3, 4, 5]$ with corresponding probabilities $[.1, .1, .2, .3, .2,.1]$.  Calculate the expected value of $X$. Calculate the expected value of $X^2$"
   ]
  },
  {
   "cell_type": "code",
   "execution_count": 2,
   "metadata": {
    "ExecuteTime": {
     "end_time": "2017-12-16T22:25:54.101184Z",
     "start_time": "2017-12-16T22:25:54.025852Z"
    }
   },
   "outputs": [
    {
     "name": "stdout",
     "output_type": "stream",
     "text": [
      "E(X) = 2.70\n",
      "E(X^2) = 9.30\n"
     ]
    }
   ],
   "source": [
    "x = np.arange(6)\n",
    "x2 = np.power(x, 2)\n",
    "p = np.array([0.1,0.1,0.2,0.3,0.2,0.1])\n",
    "\n",
    "print('E(X) = %0.2f' %(x.dot(p)))\n",
    "print('E(X^2) = %0.2f' %(x2.dot(p)))"
   ]
  },
  {
   "cell_type": "markdown",
   "metadata": {},
   "source": [
    "### 1b)  Continuous distributions (3 pts)\n",
    "Consider a random variable, $X$, that is drawn from a Gaussian distribution with mean of 3 and a variance of 5, i.e. $X \\sim \\mathcal{N}(3,5)$. Show, numerically, that the expected value of this distribution is equal to 3 (the distribution's mean).  You will need the pdf of a Gaussian (for which you can either code the formula yourself or use an appropriate function from the `scipy.stats` package imported above). However, instead of solving the expected value integral directly, compute the expected value as you would for a discrete distribution — use a large range of values of $X$ (try -500 to 500) and a small step size (try $dx = .01$)."
   ]
  },
  {
   "cell_type": "code",
   "execution_count": 3,
   "metadata": {
    "ExecuteTime": {
     "end_time": "2017-12-16T22:26:21.612933Z",
     "start_time": "2017-12-16T22:26:21.601955Z"
    }
   },
   "outputs": [
    {
     "name": "stdout",
     "output_type": "stream",
     "text": [
      "E(N(3,5)) = 3.00\n"
     ]
    }
   ],
   "source": [
    "from scipy.stats import norm\n",
    "\n",
    "x = np.linspace(-500,500,1001)\n",
    "pdf = norm(3,5).pdf(x)\n",
    "\n",
    "print('E(N(3,5)) = %0.2f' %(x.dot(pdf)))"
   ]
  },
  {
   "cell_type": "markdown",
   "metadata": {},
   "source": [
    "# Problem 2 | Joint, Marginal, & Conditional Distributions (12 pts)"
   ]
  },
  {
   "cell_type": "markdown",
   "metadata": {},
   "source": [
    "The following code (from the solutions of the most recent exercises) calculates the probability of a point $x$ being sampled from a multivariate Gaussian distribution with parameters, $\\mu$ and $C$ (mean and covariance) supplied by the user in addition to $x$:"
   ]
  },
  {
   "cell_type": "code",
   "execution_count": 4,
   "metadata": {
    "ExecuteTime": {
     "end_time": "2017-12-16T22:26:25.447261Z",
     "start_time": "2017-12-16T22:26:25.441663Z"
    },
    "collapsed": true
   },
   "outputs": [],
   "source": [
    "def mvnDensity(x,mu,C): # mvn = multivariate normal\n",
    "    mu1 = mu - x\n",
    "    invC = np.linalg.inv(C)\n",
    "    quadtrm = mu1 @ invC @ mu1.T\n",
    "    exptrm = np.exp(-0.5 * quadtrm)\n",
    "    dettrm = np.linalg.det(2 * np.pi * C)\n",
    "    px = exptrm / np.sqrt(dettrm)\n",
    "    return px"
   ]
  },
  {
   "cell_type": "markdown",
   "metadata": {},
   "source": [
    "### 2a) Conditional Distributions of Gaussians (7 pts)\n",
    "Consider two different 2D Gaussian distributions, call them Distribution 1 and Distribution 2. Both are functions of two varaiables, $\\begin{bmatrix} x\\\\ y \\end{bmatrix}$. They both have $\\mu = \\begin{bmatrix} 0\\\\ 0 \\end{bmatrix}$, but Distribution 1 has covariance $C_1 = \\begin{bmatrix} 15 & 0\\\\ 0 & 4 \\end{bmatrix}$ and Distribution 2 has $C_2 =\\begin{bmatrix} 15 & 5\\\\ 5 & 8 \\end{bmatrix}$. \n",
    "\n",
    "Generate two figures, one for Distribution 1 and a second for Distribution 2. On each figure, plot lines for two conditional distributions, $p(y\\;|\\;x = 2.5)$ and $p(y\\;|\\;x = -3.5)$ (try a range of $y=-15$ to $+15$, by steps of 0.5). \n",
    "\n",
    "What is different about your two distributions? Where can you see this difference in the math defining each distribution?"
   ]
  },
  {
   "cell_type": "code",
   "execution_count": 5,
   "metadata": {},
   "outputs": [
    {
     "data": {
      "image/png": "[encoded data removed]",
      "text/plain": [
       "<matplotlib.figure.Figure at 0x7f2f3bd3c358>"
      ]
     },
     "metadata": {},
     "output_type": "display_data"
    }
   ],
   "source": [
    "## Define distribution parameters.\n",
    "mu = np.array([0,0])\n",
    "c1 = np.array([[15, 0],\n",
    "               [ 0, 4]])\n",
    "c2 = np.array([[15, 5],\n",
    "               [ 5, 8]])\n",
    "\n",
    "## Initialize grid.\n",
    "X = Y = np.arange(-15,15.1,0.5)\n",
    "grid = np.array(np.meshgrid(Y,X)).T\n",
    "\n",
    "## Initialize canvas.\n",
    "fig, axes = plt.subplots(1,2,figsize=(15,5))\n",
    "\n",
    "## Main loop.\n",
    "prob_dist = []\n",
    "for ax, cov, title in zip(axes, [c1,c2], ['C1','C2']):\n",
    "    \n",
    "    ## Compute joint density.\n",
    "    joint_density = np.apply_along_axis(mvnDensity, -1, grid, mu, cov)\n",
    "    \n",
    "    ## Compute marginal probability over x.\n",
    "    marginal_prob_x = joint_density.sum(axis=1)\n",
    "    \n",
    "    ## Iterate over x-values.\n",
    "    for x in [2.5,-3.5]:        \n",
    "        \n",
    "        ## Compute conditional probability.\n",
    "        cond_prob = joint_density[X==x].squeeze() / marginal_prob_x[X==x]\n",
    "        prob_dist.append(cond_prob)\n",
    "        \n",
    "        ## Plot.\n",
    "        ax.plot(Y, cond_prob, lw=2.5, label='x = %s' %x)\n",
    "        \n",
    "    ## Add info.\n",
    "    ax.set(xlabel='y', ylabel=r'$p( Y | X)$', title=title)\n",
    "    ax.legend(loc=1, borderpad=0, labelspacing=0)\n",
    "\n",
    "## Save list of PDFs for next part.\n",
    "prob_dist = np.array(prob_dist).reshape(2,2,Y.size)\n",
    "\n",
    "sns.despine()\n",
    "plt.tight_layout()"
   ]
  },
  {
   "cell_type": "markdown",
   "metadata": {},
   "source": [
    "The most obvious difference between the two distributions is the presence of covariance between the X and Y variables in the second distribution. In other words, X and Y are positively correlated in the second distribution such that more positive values of X predict more positive values of Y. In contrast, the first plot shows overlap because without covariance, the Y values are independent of X. The covariance is specified in the off-diagonal elements of the covariance matrices.\n",
    "\n",
    "Less noticeable but still present is an increase in the variance of Y in the second distribution. In other words, more diffuse values of Y (farther from zero) are more likely in the second distribution than the first as indicated by the diffuse concentration of likelihood in the second plot. This is specified in the diagonal elements of the covariance matrices."
   ]
  },
  {
   "cell_type": "markdown",
   "metadata": {},
   "source": [
    "### 2b) Marginal Distribution of a Gaussian (5 pts)\n",
    "Using the same `mvnDensity()` function, calculate the marginal distribution over $y$ for Distribution 2. Plot this along with the conditionals calculated above for Distribution 2, being sure to clearly label the 3 lines."
   ]
  },
  {
   "cell_type": "code",
   "execution_count": 6,
   "metadata": {
    "ExecuteTime": {
     "end_time": "2017-12-16T22:26:50.812744Z",
     "start_time": "2017-12-16T22:26:50.641953Z"
    }
   },
   "outputs": [
    {
     "data": {
      "image/png": "[encoded data removed]",
      "text/plain": [
       "<matplotlib.figure.Figure at 0x7f2f33c36860>"
      ]
     },
     "metadata": {},
     "output_type": "display_data"
    }
   ],
   "source": [
    "## Initialize grid.\n",
    "x = y = np.arange(-15,15.1,0.5)\n",
    "grid = np.array(np.meshgrid(y,x)).T\n",
    "\n",
    "## Initialize canvas.\n",
    "fig, axes = plt.subplots(1,2,figsize=(15,5))\n",
    "\n",
    "## Main loop.\n",
    "for ax, arr, cov, title in zip(axes, prob_dist, [c1,c2], ['C1','C2']):\n",
    "    \n",
    "    ## Compute joint density.\n",
    "    joint_density = np.apply_along_axis(mvnDensity, -1, grid, mu, cov)\n",
    "    \n",
    "    ## Compute marginal probability over y.\n",
    "    marginal_prob_y = joint_density.sum(axis=0)\n",
    "    \n",
    "    ## Plot.\n",
    "    ax.plot(Y, arr[0], lw=2.5, label='x = 2.5')\n",
    "    ax.plot(Y, arr[1], lw=2.5, label='x = -3.5')\n",
    "    ax.plot(Y, marginal_prob_y, lw=2.5, label='Marginal')\n",
    "    \n",
    "    ## Add info.\n",
    "    ax.set(xlabel='y', ylabel='PDF', title=title)\n",
    "    ax.legend(loc=1, borderpad=0, labelspacing=0)\n",
    "    \n",
    "sns.despine()\n",
    "plt.tight_layout()"
   ]
  },
  {
   "cell_type": "markdown",
   "metadata": {},
   "source": [
    "---\n",
    "# Problem 3 | Deriving the MLE (15 pts)\n",
    "The final question of your final exercise set (`Exercises_Day22.ipynb`, **Q6**) asked you to derive the Maximum Likelihood Estimate for the exponential distribution:\n",
    "> Suppose we have a neuron that responds linearly to a stimulus $x$ with a slope parameter $\\theta$ (just like before), but now the noise is controlled by an exponential distribution:\n",
    "\n",
    "> $$P(y\\mid x) = (\\theta x)e^{−(\\theta x)y}$$\n",
    "\n",
    ">Derive the maximum likelihood estimator for $\\theta$ based on a set of $x_i$ and $y_i$ data points (just like before). You should be able to find a closed form expression.\n",
    "\n",
    "If you completed the problem, you should have found that $\\theta_\\text{MLE} = \\frac{N}{\\sum_i^N x_i y_i}$. If you did not arrive at this solution, the answer key has the full derivation, posted again below:\n",
    "> $$\\prod_i^N (\\theta x_i) e^{-(\\theta x_i)y_i}$$\n",
    "> $$\\sum_i^N \\log(\\theta x_i) -\\theta x_i y_i$$\n",
    "> $$\\sum_i^N \\frac{x_i}{\\theta x_i} - x_i y_i = 0$$\n",
    "> $$\\frac{N}{\\theta} = \\sum_i^N x_i y_i$$\n",
    "> $$\\theta_{MLE} = \\frac{N}{\\sum_i^N x_i y_i}$$\n",
    "\n",
    "Look, we did all the hard math already! All **you** have to do is explain, for each step of the proof, **how** we got to that step and **why** we took that step in the first place. In **English** (within the Markdown cells provided below). Note that Markdown cells do allow you to type $\\mathcal{FANCY\\;\\,MATH}$, but it is 100% unnecessary here — every explanation and justification can be done in words (though if you _really_ want to use LaTeX, feel free). \n",
    "\n",
    "In order to save poor Mike from tearing out his hair while grading these, we're going to prevent the classic \"I have no idea what I'm talking about, so I'll write a small novel and hope no one notices\" technique and **limit each response to 100 words max**. Be _precise_ and _concise_!\n",
    "\n",
    "---"
   ]
  },
  {
   "cell_type": "markdown",
   "metadata": {},
   "source": [
    "### 3a) Explain the first line (3 pts)\n",
    "What is that funny $\\Pi$ symbol, what is it doing, and why is it doing it?\n",
    "$$\\prod_i^N (\\theta x_i) e^{-(\\theta x_i)y_i}$$"
   ]
  },
  {
   "cell_type": "markdown",
   "metadata": {},
   "source": [
    "The Greek uppercase letter pi, $\\Pi$, denotes the product operator. The product operator implies the multiplication of the series of likelihood values, $p( \\theta \\ | \\ x_i, y_i )$, for all $N$ values. The total product of the series of likelihood values provides an estimate of the model likelihood, or its goodness of fit."
   ]
  },
  {
   "cell_type": "markdown",
   "metadata": {},
   "source": [
    "### 3b) What happened from the first line to the second? (3 pts)\n",
    "What happened to our funny $\\Pi$ symbol? Why did we get rid of it?\n",
    "$$\\sum_i^N \\log(\\theta x_i) -\\theta x_i y_i$$"
   ]
  },
  {
   "cell_type": "markdown",
   "metadata": {},
   "source": [
    "The $\\Pi$ symbol is replaced by the Greek uppercase letter sigma, $\\Sigma$, which denotes the summation operator. Here, the summation operator implies of the addition of all log-likelihood values in the series. We can substitute $\\Sigma$ for $\\Pi$ when we take the log of the series because, for any two real numbers $C_1$ and $C_2$, $\\text{log}(C_1 \\cdot C_2) = \\text{log}(C_1) + \\text{log}(C_2)$. We take the log of the likelihood values and perform this substitution because likelihood values are frequently very small numbers and thus their logs are more numerically stable.  "
   ]
  },
  {
   "cell_type": "markdown",
   "metadata": {},
   "source": [
    "### 3c) What happened from the second line to the third? (3 pts)\n",
    "Why did we do this?\n",
    "$$\\sum_i^N \\frac{x_i}{\\theta x_i} - x_i y_i = 0$$"
   ]
  },
  {
   "cell_type": "markdown",
   "metadata": {},
   "source": [
    "We take the derivative with respect to theta, $\\theta$, to solve for the minimum of the likelihood function.  "
   ]
  },
  {
   "cell_type": "markdown",
   "metadata": {},
   "source": [
    "### 3d) What happened from the third line to the fourth? (3 pts)\n",
    "Why is there no $\\Sigma$ on the left now? Where did that $N$ come from?\n",
    "$$\\frac{N}{\\theta} = \\sum_i^N x_i y_i$$"
   ]
  },
  {
   "cell_type": "markdown",
   "metadata": {},
   "source": [
    "Beginning with (3c), we first move the right-half of the left-hand expression to the right side:\n",
    "\n",
    "> $\\sum_i^N \\frac{x_i}{\\theta x_i} = \\sum_i^N x_i y_i $\n",
    "\n",
    "Next we note that $x_i$ in the numerator and denominator cancels itself out:\n",
    "\n",
    "> $\\sum_i^N \\frac{1}{\\theta } = \\sum_i^N x_i y_i $\n",
    "\n",
    "This is simply the sum of the series $\\frac{1}{\\theta} + \\frac{1}{\\theta} + ... + \\frac{1}{\\theta}$ of length $N$, thus we simplify to:\n",
    "\n",
    "> $\\frac{N}{\\theta} = \\sum_i^N x_i y_i$"
   ]
  },
  {
   "cell_type": "markdown",
   "metadata": {},
   "source": [
    "### 3e) Neat, we got our answer! Explain what exactly it means for this particular $\\theta$ to be the MLE. (3 pts)\n",
    "Why did we do all this math to get it in this form?\n",
    "$$\\theta_{MLE} = \\frac{N}{\\sum_i^N x_i y_i}$$"
   ]
  },
  {
   "cell_type": "markdown",
   "metadata": {},
   "source": [
    "What it means for some $\\theta$ to be the maximum likelihood estimate (MLE) is that it is the slope parameter that minimizes the error in mapping $X$ to $Y$."
   ]
  },
  {
   "cell_type": "markdown",
   "metadata": {},
   "source": [
    "# Problem 4 | Middle School Survey (17 pts)\n",
    "As part of a STEM outreach program, you’re mentoring students while they do a survey of physical attributes (sex, eye color, hair color) of their classmates in a middle school of 592 people. Let's refer to these random variables as $S$, $E$, and $H$ for sex, eye color, and hair color, respectively. You collect the frequencies of each combination in the following pair of tables:\n",
    "\n",
    "| S = MALE | E = *Brown* | E = *Blue* | E = *Hazel* | E = *Green* |||| S = FEMALE | E = *Brown* | E = *Blue* | E = *Hazel* | E = *Green* |\n",
    "|------|------|------|------|------||||------|------|------|------|------|\n",
    "| H = *Black* | 32 | 11 | 10 | 3 |||| H = *Black* | 36 | 9 | 5 | 2 |\n",
    "| H = *Brown* | 53 | 50 | 25 | 15 |||| H = *Brown* | 66 | 34 | 29 | 14 |\n",
    "| H = *Red* | 10 | 10 | 7 | 7 |||| H = *Red* | 16 | 7 | 7 | 7 |\n",
    "| H = *Blonde* | 3 | 30 | 5 | 8 |||| H = *Blonde* | 4 | 64 | 5 | 8 |\n",
    "\n",
    "For questions **4a-c**, use this marginalization over $S$:\n",
    "\n",
    "|  | E = *Brown* | E = *Blue* | E = *Hazel* | E = *Green* |\n",
    "|------|------|------|------|------|\n",
    "| H = *Black* | 68 | 20 | 15 | 5 |\n",
    "| H = *Brown* | 119 | 84 | 54 | 29 |\n",
    "| H = *Red* | 26 | 17 | 14 | 14 |\n",
    "| H = *Blonde* | 7 | 94 | 10 | 16 |\n"
   ]
  },
  {
   "cell_type": "markdown",
   "metadata": {
    "collapsed": true
   },
   "source": [
    "### 4a) Compute the joint density $P(E, H)$ (1 pts)"
   ]
  },
  {
   "cell_type": "code",
   "execution_count": 7,
   "metadata": {
    "ExecuteTime": {
     "end_time": "2017-12-16T22:27:01.409211Z",
     "start_time": "2017-12-16T22:27:01.402156Z"
    }
   },
   "outputs": [
    {
     "data": {
      "text/html": [
       "<div>\n",
       "<style scoped>\n",
       "    .dataframe tbody tr th:only-of-type {\n",
       "        vertical-align: middle;\n",
       "    }\n",
       "\n",
       "    .dataframe tbody tr th {\n",
       "        vertical-align: top;\n",
       "    }\n",
       "\n",
       "    .dataframe thead th {\n",
       "        text-align: right;\n",
       "    }\n",
       "</style>\n",
       "<table border=\"1\" class=\"dataframe\">\n",
       "  <thead>\n",
       "    <tr style=\"text-align: right;\">\n",
       "      <th></th>\n",
       "      <th>Brown</th>\n",
       "      <th>Blue</th>\n",
       "      <th>Hazel</th>\n",
       "      <th>Green</th>\n",
       "    </tr>\n",
       "  </thead>\n",
       "  <tbody>\n",
       "    <tr>\n",
       "      <th>Black</th>\n",
       "      <td>0.11</td>\n",
       "      <td>0.03</td>\n",
       "      <td>0.03</td>\n",
       "      <td>0.01</td>\n",
       "    </tr>\n",
       "    <tr>\n",
       "      <th>Brown</th>\n",
       "      <td>0.20</td>\n",
       "      <td>0.14</td>\n",
       "      <td>0.09</td>\n",
       "      <td>0.05</td>\n",
       "    </tr>\n",
       "    <tr>\n",
       "      <th>Red</th>\n",
       "      <td>0.04</td>\n",
       "      <td>0.03</td>\n",
       "      <td>0.02</td>\n",
       "      <td>0.02</td>\n",
       "    </tr>\n",
       "    <tr>\n",
       "      <th>Blonde</th>\n",
       "      <td>0.01</td>\n",
       "      <td>0.16</td>\n",
       "      <td>0.02</td>\n",
       "      <td>0.03</td>\n",
       "    </tr>\n",
       "  </tbody>\n",
       "</table>\n",
       "</div>"
      ],
      "text/plain": [
       "        Brown  Blue  Hazel  Green\n",
       "Black    0.11  0.03   0.03   0.01\n",
       "Brown    0.20  0.14   0.09   0.05\n",
       "Red      0.04  0.03   0.02   0.02\n",
       "Blonde   0.01  0.16   0.02   0.03"
      ]
     },
     "execution_count": 7,
     "metadata": {},
     "output_type": "execute_result"
    }
   ],
   "source": [
    "from pandas import DataFrame\n",
    "\n",
    "Table = np.array([[ 68, 20, 15,  5],\n",
    "                  [119, 84, 54, 29],\n",
    "                  [ 26, 17, 14, 14],\n",
    "                  [  7, 94, 10, 16]])\n",
    "\n",
    "Table = DataFrame(Table,  index = ('Black','Brown','Red','Blonde'), \n",
    "                  columns = ('Brown','Blue','Hazel', 'Green'))\n",
    "\n",
    "jd = Table / Table.values.sum()\n",
    "jd.round(2)"
   ]
  },
  {
   "cell_type": "markdown",
   "metadata": {},
   "source": [
    "### 4b) From this joint density, compute: (1.5 pts each)\n",
    "\n",
    "- $P(E)$: the marginal distribution over eye color\n",
    "- $P(H\\mid E=\\text{hazel})$ : the conditional over hair color given the student has hazel eyes\n",
    "- $P(E\\mid H)$ : the full conditional density over eye color given hair color\n",
    "- $P(H\\mid E=\\text{not brown})$: the conditional over hair color given the student doesn't have brown eyes.\n"
   ]
  },
  {
   "cell_type": "code",
   "execution_count": 8,
   "metadata": {
    "ExecuteTime": {
     "end_time": "2017-12-16T22:27:06.765880Z",
     "start_time": "2017-12-16T22:27:06.753827Z"
    }
   },
   "outputs": [
    {
     "data": {
      "text/plain": [
       "Brown    0.37\n",
       "Blue     0.36\n",
       "Hazel    0.16\n",
       "Green    0.11\n",
       "dtype: float64"
      ]
     },
     "execution_count": 8,
     "metadata": {},
     "output_type": "execute_result"
    }
   ],
   "source": [
    "## Marginal distribution over eye color.\n",
    "jd.sum().round(2)"
   ]
  },
  {
   "cell_type": "code",
   "execution_count": 9,
   "metadata": {},
   "outputs": [
    {
     "data": {
      "text/plain": [
       "Black     0.16\n",
       "Brown     0.58\n",
       "Red       0.15\n",
       "Blonde    0.11\n",
       "Name: Hazel, dtype: float64"
      ]
     },
     "execution_count": 9,
     "metadata": {},
     "output_type": "execute_result"
    }
   ],
   "source": [
    "## Conditional distribution of hair color given hazel eyes.\n",
    "(jd.Hazel / jd.Hazel.sum()).round(2)"
   ]
  },
  {
   "cell_type": "code",
   "execution_count": 10,
   "metadata": {},
   "outputs": [
    {
     "data": {
      "text/html": [
       "<div>\n",
       "<style scoped>\n",
       "    .dataframe tbody tr th:only-of-type {\n",
       "        vertical-align: middle;\n",
       "    }\n",
       "\n",
       "    .dataframe tbody tr th {\n",
       "        vertical-align: top;\n",
       "    }\n",
       "\n",
       "    .dataframe thead th {\n",
       "        text-align: right;\n",
       "    }\n",
       "</style>\n",
       "<table border=\"1\" class=\"dataframe\">\n",
       "  <thead>\n",
       "    <tr style=\"text-align: right;\">\n",
       "      <th></th>\n",
       "      <th>Brown</th>\n",
       "      <th>Blue</th>\n",
       "      <th>Hazel</th>\n",
       "      <th>Green</th>\n",
       "    </tr>\n",
       "  </thead>\n",
       "  <tbody>\n",
       "    <tr>\n",
       "      <th>Black</th>\n",
       "      <td>0.63</td>\n",
       "      <td>0.19</td>\n",
       "      <td>0.14</td>\n",
       "      <td>0.05</td>\n",
       "    </tr>\n",
       "    <tr>\n",
       "      <th>Brown</th>\n",
       "      <td>0.42</td>\n",
       "      <td>0.29</td>\n",
       "      <td>0.19</td>\n",
       "      <td>0.10</td>\n",
       "    </tr>\n",
       "    <tr>\n",
       "      <th>Red</th>\n",
       "      <td>0.37</td>\n",
       "      <td>0.24</td>\n",
       "      <td>0.20</td>\n",
       "      <td>0.20</td>\n",
       "    </tr>\n",
       "    <tr>\n",
       "      <th>Blonde</th>\n",
       "      <td>0.06</td>\n",
       "      <td>0.74</td>\n",
       "      <td>0.08</td>\n",
       "      <td>0.13</td>\n",
       "    </tr>\n",
       "  </tbody>\n",
       "</table>\n",
       "</div>"
      ],
      "text/plain": [
       "        Brown  Blue  Hazel  Green\n",
       "Black    0.63  0.19   0.14   0.05\n",
       "Brown    0.42  0.29   0.19   0.10\n",
       "Red      0.37  0.24   0.20   0.20\n",
       "Blonde   0.06  0.74   0.08   0.13"
      ]
     },
     "execution_count": 10,
     "metadata": {},
     "output_type": "execute_result"
    }
   ],
   "source": [
    "## Conditional distribution of eye color given hair color.\n",
    "jd.apply(lambda row: row / row.sum(), 1).round(2)"
   ]
  },
  {
   "cell_type": "code",
   "execution_count": 11,
   "metadata": {},
   "outputs": [
    {
     "data": {
      "text/plain": [
       "Black     0.11\n",
       "Brown     0.45\n",
       "Red       0.12\n",
       "Blonde    0.32\n",
       "dtype: float64"
      ]
     },
     "execution_count": 11,
     "metadata": {},
     "output_type": "execute_result"
    }
   ],
   "source": [
    "## Conditional over hair color given not brown eyes.\n",
    "not_brown = jd[['Blue','Hazel','Green']].sum(axis=1)\n",
    "(not_brown / not_brown.sum()).round(2)"
   ]
  },
  {
   "cell_type": "markdown",
   "metadata": {},
   "source": [
    "### 4c) Compute the independent approximation to $P(E,H)$. Are eye and hair color independent? (4 pts)\n",
    "If hair color and eye color are truly independent, then $p(e \\cap h) = p(e)p(h)$. Using the marginal distributions, we can compute these values for each cell and compare to the observed joint densities. "
   ]
  },
  {
   "cell_type": "code",
   "execution_count": 12,
   "metadata": {},
   "outputs": [
    {
     "data": {
      "text/html": [
       "<div>\n",
       "<style scoped>\n",
       "    .dataframe tbody tr th:only-of-type {\n",
       "        vertical-align: middle;\n",
       "    }\n",
       "\n",
       "    .dataframe tbody tr th {\n",
       "        vertical-align: top;\n",
       "    }\n",
       "\n",
       "    .dataframe thead th {\n",
       "        text-align: right;\n",
       "    }\n",
       "</style>\n",
       "<table border=\"1\" class=\"dataframe\">\n",
       "  <thead>\n",
       "    <tr style=\"text-align: right;\">\n",
       "      <th></th>\n",
       "      <th>Brown</th>\n",
       "      <th>Blue</th>\n",
       "      <th>Hazel</th>\n",
       "      <th>Green</th>\n",
       "    </tr>\n",
       "  </thead>\n",
       "  <tbody>\n",
       "    <tr>\n",
       "      <th>Black</th>\n",
       "      <td>0.07</td>\n",
       "      <td>0.07</td>\n",
       "      <td>0.03</td>\n",
       "      <td>0.02</td>\n",
       "    </tr>\n",
       "    <tr>\n",
       "      <th>Brown</th>\n",
       "      <td>0.18</td>\n",
       "      <td>0.18</td>\n",
       "      <td>0.08</td>\n",
       "      <td>0.05</td>\n",
       "    </tr>\n",
       "    <tr>\n",
       "      <th>Red</th>\n",
       "      <td>0.04</td>\n",
       "      <td>0.04</td>\n",
       "      <td>0.02</td>\n",
       "      <td>0.01</td>\n",
       "    </tr>\n",
       "    <tr>\n",
       "      <th>Blonde</th>\n",
       "      <td>0.08</td>\n",
       "      <td>0.08</td>\n",
       "      <td>0.03</td>\n",
       "      <td>0.02</td>\n",
       "    </tr>\n",
       "  </tbody>\n",
       "</table>\n",
       "</div>"
      ],
      "text/plain": [
       "        Brown  Blue  Hazel  Green\n",
       "Black    0.07  0.07   0.03   0.02\n",
       "Brown    0.18  0.18   0.08   0.05\n",
       "Red      0.04  0.04   0.02   0.01\n",
       "Blonde   0.08  0.08   0.03   0.02"
      ]
     },
     "execution_count": 12,
     "metadata": {},
     "output_type": "execute_result"
    }
   ],
   "source": [
    "## Compute independent approximation of joint densities.\n",
    "independent = np.outer(jd.sum(axis=1), jd.sum(axis=0))\n",
    "independent = DataFrame(independent,  index = ('Black','Brown','Red','Blonde'), \n",
    "                        columns = ('Brown','Blue','Hazel', 'Green'))\n",
    "independent.round(2)"
   ]
  },
  {
   "cell_type": "code",
   "execution_count": 13,
   "metadata": {},
   "outputs": [
    {
     "data": {
      "text/plain": [
       "array([[False, False, False, False],\n",
       "       [False, False, False, False],\n",
       "       [False, False, False, False],\n",
       "       [False, False, False, False]], dtype=bool)"
      ]
     },
     "execution_count": 13,
     "metadata": {},
     "output_type": "execute_result"
    }
   ],
   "source": [
    "## Check if close.\n",
    "np.isclose(jd.values, independent.values)"
   ]
  },
  {
   "cell_type": "markdown",
   "metadata": {},
   "source": [
    "The expected joint densities assuming conditional independence are not equal to those observed in the data. Therefore we can conclude that eye and hair color are not independent. "
   ]
  },
  {
   "cell_type": "markdown",
   "metadata": {},
   "source": [
    "---\n",
    "Use this marginalization over $E$ for **d-e**:\n",
    "\n",
    "|  | S = MALE | S = FEMALE |\n",
    "|------|------|------|\n",
    "| H = *Black* | 56 | 52 |\n",
    "| H = *Brown* | 143 | 143 |\n",
    "| H = *Red* | 34 | 37 |\n",
    "| H = *Blonde* | 46 | 81 |\n",
    "\n",
    "85% of these students report having a cell phone (let's call this random variable $C$, so $P(C)=0.85$). Of those students, 48% are male, independent of hair color, such that $P(S=\\text{male}\\mid C)=0.48$. \n",
    "\n",
    "_Hint:_ For the following problems, use Bayes' rule and don't forget about independence!"
   ]
  },
  {
   "cell_type": "code",
   "execution_count": 14,
   "metadata": {
    "ExecuteTime": {
     "end_time": "2017-12-16T22:27:17.065228Z",
     "start_time": "2017-12-16T22:27:17.057628Z"
    }
   },
   "outputs": [],
   "source": [
    "Table2 = np.array([[ 56, 52],\n",
    "                   [143,143],\n",
    "                   [ 34, 37],\n",
    "                   [ 46, 81]])\n",
    "\n",
    "Table2 = DataFrame(Table2, index = ('Black','Brown','Red','Blonde'), columns=('Male','Female'))"
   ]
  },
  {
   "cell_type": "markdown",
   "metadata": {},
   "source": [
    "### 4d) What is the probability that a randomly selected male has a cell phone? (3 pts)"
   ]
  },
  {
   "cell_type": "markdown",
   "metadata": {},
   "source": [
    "> $ p(C \\ | \\ S = \\text{male} ) = \\frac{p(S = \\text{male} \\ | \\ C)p(C)}{p(S= \\text{male})} $"
   ]
  },
  {
   "cell_type": "code",
   "execution_count": 15,
   "metadata": {},
   "outputs": [
    {
     "name": "stdout",
     "output_type": "stream",
     "text": [
      "0.866\n"
     ]
    }
   ],
   "source": [
    "## Define probabilities.\n",
    "p_male = Table2.Male.sum() / Table2.values.sum()\n",
    "p_cellhpone = 0.85\n",
    "p_male_cellphone = 0.48\n",
    "\n",
    "## Compute Bayes rule.\n",
    "p_cellphone_male = ( p_male_cellphone * p_cellhpone ) / p_male\n",
    "print(p_cellphone_male.round(3))"
   ]
  },
  {
   "cell_type": "markdown",
   "metadata": {},
   "source": [
    "### 4e) What is the probability that a randomly selected brown-haired male has a cell phone? (3 pts)\n",
    "For clarity, we change the notation to: $C$ = cell phone, $M$ = male, and $B$ = brown hair. \n",
    "\n",
    "The probability that a randomly selected brown-haired male has a cell phone is:\n",
    "\n",
    "> $ p(C \\ | \\ M, B) = \\frac{p(C, M, B)}{p(M, B)} = \\frac{p(B \\ | \\ M, C)p(M, C)}{p(M, B)} = \\frac{p(B \\ | \\ M, C)p(M \\ | \\ C)p(C)}{p(B \\ | \\ M)p(M)}$\n",
    "\n",
    "We are told above that hair color is independent of cell phone possession. Thus:\n",
    "\n",
    "> $ = \\frac{p(B \\ | \\ M, C)p(M \\ | \\ C)p(C)}{p(B \\ | \\ M)p(M)} = \\frac{p(B \\ | \\ M)p(M \\ | \\ C)p(C)}{p(B \\ | \\ M)p(M)} = \\frac{p(M \\ | \\ C)p(C)}{p(M)}$\n",
    "\n",
    "which is the same probability as above."
   ]
  },
  {
   "cell_type": "code",
   "execution_count": 16,
   "metadata": {},
   "outputs": [
    {
     "name": "stdout",
     "output_type": "stream",
     "text": [
      "0.866\n"
     ]
    }
   ],
   "source": [
    "## Define probabilities.\n",
    "p_brown_male = Table2.loc['Brown','Male'] / Table2.Male.sum()\n",
    "p_brown = Table2.T.Brown.sum() / Table2.values.sum()\n",
    "\n",
    "## Compute Bayes rule.\n",
    "p_cellphone_male = ( p_male_cellphone * p_cellhpone ) / p_male\n",
    "print(p_cellphone_male.round(3))"
   ]
  }
 ],
 "metadata": {
  "kernelspec": {
   "display_name": "Python 3",
   "language": "python",
   "name": "python3"
  },
  "language_info": {
   "codemirror_mode": {
    "name": "ipython",
    "version": 3
   },
   "file_extension": ".py",
   "mimetype": "text/x-python",
   "name": "python",
   "nbconvert_exporter": "python",
   "pygments_lexer": "ipython3",
   "version": "3.6.3"
  },
  "latex_envs": {
   "LaTeX_envs_menu_present": true,
   "autoclose": false,
   "autocomplete": true,
   "bibliofile": "biblio.bib",
   "cite_by": "apalike",
   "current_citInitial": 1,
   "eqLabelWithNumbers": true,
   "eqNumInitial": 1,
   "hotkeys": {
    "equation": "Ctrl-E",
    "itemize": "Ctrl-I"
   },
   "labels_anchors": false,
   "latex_user_defs": false,
   "report_style_numbering": false,
   "user_envs_cfg": false
  },
  "toc": {
   "nav_menu": {},
   "number_sections": false,
   "sideBar": true,
   "skip_h1_title": false,
   "title_cell": "Table of Contents",
   "title_sidebar": "Contents",
   "toc_cell": false,
   "toc_position": {},
   "toc_section_display": true,
   "toc_window_display": false
  },
  "varInspector": {
   "cols": {
    "lenName": 16,
    "lenType": 16,
    "lenVar": 40
   },
   "kernels_config": {
    "python": {
     "delete_cmd_postfix": "",
     "delete_cmd_prefix": "del ",
     "library": "var_list.py",
     "varRefreshCmd": "print(var_dic_list())"
    },
    "r": {
     "delete_cmd_postfix": ") ",
     "delete_cmd_prefix": "rm(",
     "library": "var_list.r",
     "varRefreshCmd": "cat(var_dic_list()) "
    }
   },
   "types_to_exclude": [
    "module",
    "function",
    "builtin_function_or_method",
    "instance",
    "_Feature"
   ],
   "window_display": false
  }
 },
 "nbformat": 4,
 "nbformat_minor": 2
}
